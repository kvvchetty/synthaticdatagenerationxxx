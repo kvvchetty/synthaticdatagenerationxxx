{
  "nbformat": 4,
  "nbformat_minor": 0,
  "metadata": {
    "colab": {
      "provenance": [],
      "include_colab_link": true
    },
    "kernelspec": {
      "name": "python3",
      "display_name": "Python 3"
    },
    "language_info": {
      "name": "python"
    }
  },
  "cells": [
    {
      "cell_type": "markdown",
      "metadata": {
        "id": "view-in-github",
        "colab_type": "text"
      },
      "source": [
        "<a href=\"https://colab.research.google.com/github/kvvchetty/synthaticdatagenerationxxx/blob/main/CTGAN_Insurance.ipynb\" target=\"_parent\"><img src=\"https://colab.research.google.com/assets/colab-badge.svg\" alt=\"Open In Colab\"/></a>"
      ]
    },
    {
      "cell_type": "markdown",
      "source": [
        "# Setup"
      ],
      "metadata": {
        "id": "28nMCaN-lHnx"
      }
    },
    {
      "cell_type": "markdown",
      "source": [
        "In this tutorial we use the defaul version of the CTGAN:\n",
        "https://github.com/sdv-dev/CTGAN\n",
        "\n",
        "We also need to install table evaluator to evaluate the quality of the generated synthetic data."
      ],
      "metadata": {
        "id": "HyLVyiSAja6y"
      }
    },
    {
      "cell_type": "code",
      "execution_count": null,
      "metadata": {
        "id": "78nuRKAZjMLK"
      },
      "outputs": [],
      "source": [
        "!pip install ctgan\n"
      ]
    },
    {
      "cell_type": "code",
      "source": [
        "!pip install table_evaluator"
      ],
      "metadata": {
        "id": "t_POcK2GWUnQ"
      },
      "execution_count": null,
      "outputs": []
    },
    {
      "cell_type": "markdown",
      "source": [
        "Now we download a dataset that includes both continuous and discrete values. I chose a random dataset from Kaggle: https://www.kaggle.com/datasets/mirichoi0218/insurance"
      ],
      "metadata": {
        "id": "i7OCSdNokJUB"
      }
    },
    {
      "cell_type": "code",
      "source": [
        "!gdown 1CFLXcella3VFDzPJRGrfkGlYNOhf1RCQ"
      ],
      "metadata": {
        "id": "F1fEh8JpjiQD"
      },
      "execution_count": null,
      "outputs": []
    },
    {
      "cell_type": "code",
      "source": [
        "import pandas as pd\n",
        "data = pd.read_csv('./insurance.csv')"
      ],
      "metadata": {
        "id": "UZ9MM-vikDb2"
      },
      "execution_count": null,
      "outputs": []
    },
    {
      "cell_type": "code",
      "source": [
        "data"
      ],
      "metadata": {
        "id": "bMzopPo0kmIF"
      },
      "execution_count": null,
      "outputs": []
    },
    {
      "cell_type": "markdown",
      "source": [
        "Next, we define a list with column names for categorical variables. This list will be passed to the model so that the model can decide how to process these fields."
      ],
      "metadata": {
        "id": "d4WjVK6pkzuJ"
      }
    },
    {
      "cell_type": "code",
      "source": [
        "categorical_features = ['age','sex','children','smoker','region']"
      ],
      "metadata": {
        "id": "G9fsH2-gkpfQ"
      },
      "execution_count": null,
      "outputs": []
    },
    {
      "cell_type": "markdown",
      "source": [
        "#Model training"
      ],
      "metadata": {
        "id": "Gg7M1vdflM7m"
      }
    },
    {
      "cell_type": "markdown",
      "source": [
        "Next, we simply define an instance of CTGANSynthesizer and call the fit method with the dataframe and the list of categorical variables.\n",
        "\n",
        "We train the model for 300 epochs only as the discriminator and generator loss becomes quite low after these many epochs."
      ],
      "metadata": {
        "id": "y5lFTO-8lT9U"
      }
    },
    {
      "cell_type": "code",
      "source": [
        "from ctgan import CTGAN\n",
        "\n",
        "ctgan = CTGAN(verbose=True)\n",
        "ctgan.fit(data, categorical_features, epochs = 200)"
      ],
      "metadata": {
        "id": "i07FDNaWlPgW"
      },
      "execution_count": null,
      "outputs": []
    },
    {
      "cell_type": "markdown",
      "source": [
        "#Synthetic data generation"
      ],
      "metadata": {
        "id": "SXJ80rc5UisI"
      }
    },
    {
      "cell_type": "code",
      "source": [
        "samples = ctgan.sample(1000)"
      ],
      "metadata": {
        "id": "7YQI8XdXUmO7"
      },
      "execution_count": null,
      "outputs": []
    },
    {
      "cell_type": "code",
      "source": [
        "samples"
      ],
      "metadata": {
        "id": "EfVPeXd4U2Nw"
      },
      "execution_count": null,
      "outputs": []
    },
    {
      "cell_type": "markdown",
      "source": [
        "#Evaluation"
      ],
      "metadata": {
        "id": "5dLZQ6ABU6Pp"
      }
    },
    {
      "cell_type": "code",
      "source": [
        "from table_evaluator import TableEvaluator\n",
        "\n",
        "print(data.shape, samples.shape)\n",
        "table_evaluator =  TableEvaluator(data, samples, cat_cols= categorical_features)\n",
        "\n",
        "table_evaluator.visual_evaluation()"
      ],
      "metadata": {
        "id": "xRDdzbtPU8Dv"
      },
      "execution_count": null,
      "outputs": []
    }
  ]
}